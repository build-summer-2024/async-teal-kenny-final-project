{
 "cells": [
  {
   "cell_type": "code",
   "execution_count": 2,
   "metadata": {},
   "outputs": [],
   "source": [
    "import pandas as pd\n",
    "import seaborn\n",
    "import matplotlib"
   ]
  },
  {
   "cell_type": "code",
   "execution_count": 3,
   "metadata": {},
   "outputs": [
    {
     "data": {
      "text/html": [
       "<div>\n",
       "<style scoped>\n",
       "    .dataframe tbody tr th:only-of-type {\n",
       "        vertical-align: middle;\n",
       "    }\n",
       "\n",
       "    .dataframe tbody tr th {\n",
       "        vertical-align: top;\n",
       "    }\n",
       "\n",
       "    .dataframe thead th {\n",
       "        text-align: right;\n",
       "    }\n",
       "</style>\n",
       "<table border=\"1\" class=\"dataframe\">\n",
       "  <thead>\n",
       "    <tr style=\"text-align: right;\">\n",
       "      <th></th>\n",
       "      <th>region</th>\n",
       "      <th>category</th>\n",
       "      <th>parameter</th>\n",
       "      <th>mode</th>\n",
       "      <th>powertrain</th>\n",
       "      <th>year</th>\n",
       "      <th>unit</th>\n",
       "      <th>value</th>\n",
       "    </tr>\n",
       "  </thead>\n",
       "  <tbody>\n",
       "    <tr>\n",
       "      <th>0</th>\n",
       "      <td>Australia</td>\n",
       "      <td>Historical</td>\n",
       "      <td>EV stock share</td>\n",
       "      <td>Cars</td>\n",
       "      <td>EV</td>\n",
       "      <td>2011</td>\n",
       "      <td>percent</td>\n",
       "      <td>3.900000e-04</td>\n",
       "    </tr>\n",
       "    <tr>\n",
       "      <th>1</th>\n",
       "      <td>Australia</td>\n",
       "      <td>Historical</td>\n",
       "      <td>EV sales share</td>\n",
       "      <td>Cars</td>\n",
       "      <td>EV</td>\n",
       "      <td>2011</td>\n",
       "      <td>percent</td>\n",
       "      <td>6.500000e-03</td>\n",
       "    </tr>\n",
       "    <tr>\n",
       "      <th>2</th>\n",
       "      <td>Australia</td>\n",
       "      <td>Historical</td>\n",
       "      <td>EV sales</td>\n",
       "      <td>Cars</td>\n",
       "      <td>BEV</td>\n",
       "      <td>2011</td>\n",
       "      <td>Vehicles</td>\n",
       "      <td>4.900000e+01</td>\n",
       "    </tr>\n",
       "    <tr>\n",
       "      <th>3</th>\n",
       "      <td>Australia</td>\n",
       "      <td>Historical</td>\n",
       "      <td>EV stock</td>\n",
       "      <td>Cars</td>\n",
       "      <td>BEV</td>\n",
       "      <td>2011</td>\n",
       "      <td>Vehicles</td>\n",
       "      <td>4.900000e+01</td>\n",
       "    </tr>\n",
       "    <tr>\n",
       "      <th>4</th>\n",
       "      <td>Australia</td>\n",
       "      <td>Historical</td>\n",
       "      <td>EV stock</td>\n",
       "      <td>Cars</td>\n",
       "      <td>BEV</td>\n",
       "      <td>2012</td>\n",
       "      <td>Vehicles</td>\n",
       "      <td>2.200000e+02</td>\n",
       "    </tr>\n",
       "    <tr>\n",
       "      <th>...</th>\n",
       "      <td>...</td>\n",
       "      <td>...</td>\n",
       "      <td>...</td>\n",
       "      <td>...</td>\n",
       "      <td>...</td>\n",
       "      <td>...</td>\n",
       "      <td>...</td>\n",
       "      <td>...</td>\n",
       "    </tr>\n",
       "    <tr>\n",
       "      <th>12649</th>\n",
       "      <td>World</td>\n",
       "      <td>Projection-STEPS</td>\n",
       "      <td>EV sales share</td>\n",
       "      <td>Cars</td>\n",
       "      <td>EV</td>\n",
       "      <td>2035</td>\n",
       "      <td>percent</td>\n",
       "      <td>5.500000e+01</td>\n",
       "    </tr>\n",
       "    <tr>\n",
       "      <th>12650</th>\n",
       "      <td>World</td>\n",
       "      <td>Projection-STEPS</td>\n",
       "      <td>EV stock share</td>\n",
       "      <td>Cars</td>\n",
       "      <td>EV</td>\n",
       "      <td>2035</td>\n",
       "      <td>percent</td>\n",
       "      <td>3.100000e+01</td>\n",
       "    </tr>\n",
       "    <tr>\n",
       "      <th>12651</th>\n",
       "      <td>World</td>\n",
       "      <td>Projection-APS</td>\n",
       "      <td>EV charging points</td>\n",
       "      <td>EV</td>\n",
       "      <td>Publicly available fast</td>\n",
       "      <td>2035</td>\n",
       "      <td>charging points</td>\n",
       "      <td>9.400000e+06</td>\n",
       "    </tr>\n",
       "    <tr>\n",
       "      <th>12652</th>\n",
       "      <td>World</td>\n",
       "      <td>Projection-APS</td>\n",
       "      <td>EV charging points</td>\n",
       "      <td>EV</td>\n",
       "      <td>Publicly available slow</td>\n",
       "      <td>2035</td>\n",
       "      <td>charging points</td>\n",
       "      <td>1.500000e+07</td>\n",
       "    </tr>\n",
       "    <tr>\n",
       "      <th>12653</th>\n",
       "      <td>World</td>\n",
       "      <td>Projection-STEPS</td>\n",
       "      <td>EV stock share</td>\n",
       "      <td>Trucks</td>\n",
       "      <td>EV</td>\n",
       "      <td>2035</td>\n",
       "      <td>percent</td>\n",
       "      <td>9.000000e+00</td>\n",
       "    </tr>\n",
       "  </tbody>\n",
       "</table>\n",
       "<p>12654 rows × 8 columns</p>\n",
       "</div>"
      ],
      "text/plain": [
       "          region          category           parameter    mode  \\\n",
       "0      Australia        Historical      EV stock share    Cars   \n",
       "1      Australia        Historical      EV sales share    Cars   \n",
       "2      Australia        Historical            EV sales    Cars   \n",
       "3      Australia        Historical            EV stock    Cars   \n",
       "4      Australia        Historical            EV stock    Cars   \n",
       "...          ...               ...                 ...     ...   \n",
       "12649      World  Projection-STEPS      EV sales share    Cars   \n",
       "12650      World  Projection-STEPS      EV stock share    Cars   \n",
       "12651      World    Projection-APS  EV charging points      EV   \n",
       "12652      World    Projection-APS  EV charging points      EV   \n",
       "12653      World  Projection-STEPS      EV stock share  Trucks   \n",
       "\n",
       "                    powertrain  year             unit         value  \n",
       "0                           EV  2011          percent  3.900000e-04  \n",
       "1                           EV  2011          percent  6.500000e-03  \n",
       "2                          BEV  2011         Vehicles  4.900000e+01  \n",
       "3                          BEV  2011         Vehicles  4.900000e+01  \n",
       "4                          BEV  2012         Vehicles  2.200000e+02  \n",
       "...                        ...   ...              ...           ...  \n",
       "12649                       EV  2035          percent  5.500000e+01  \n",
       "12650                       EV  2035          percent  3.100000e+01  \n",
       "12651  Publicly available fast  2035  charging points  9.400000e+06  \n",
       "12652  Publicly available slow  2035  charging points  1.500000e+07  \n",
       "12653                       EV  2035          percent  9.000000e+00  \n",
       "\n",
       "[12654 rows x 8 columns]"
      ]
     },
     "execution_count": 3,
     "metadata": {},
     "output_type": "execute_result"
    }
   ],
   "source": [
    "df = pd.read_csv(\"IEA Global EV Data 2024.csv\")\n",
    "df"
   ]
  },
  {
   "cell_type": "code",
   "execution_count": null,
   "metadata": {},
   "outputs": [],
   "source": [
    "# 1. How many electric vehicles have been sold in the \n",
    "#    World in 2024 compared to 2010?"
   ]
  },
  {
   "cell_type": "code",
   "execution_count": null,
   "metadata": {},
   "outputs": [],
   "source": [
    "# 2. Who were the top 5 countries that sold EVs in 2010?"
   ]
  },
  {
   "cell_type": "code",
   "execution_count": null,
   "metadata": {},
   "outputs": [],
   "source": [
    "# 3. Who were the top 5 countries that sold EVs in 2024?"
   ]
  },
  {
   "cell_type": "code",
   "execution_count": null,
   "metadata": {},
   "outputs": [],
   "source": [
    "# 4. Which country has sold the most EVs in total?"
   ]
  },
  {
   "cell_type": "code",
   "execution_count": null,
   "metadata": {},
   "outputs": [],
   "source": [
    "# 5. How has the stock share changed in the US over time?"
   ]
  },
  {
   "cell_type": "code",
   "execution_count": null,
   "metadata": {},
   "outputs": [],
   "source": [
    "# 6. How has the stock share changed in the World over time?"
   ]
  },
  {
   "cell_type": "code",
   "execution_count": null,
   "metadata": {},
   "outputs": [],
   "source": [
    "# 7. What is the ratio of types of EVs in 2024?"
   ]
  },
  {
   "cell_type": "code",
   "execution_count": null,
   "metadata": {},
   "outputs": [],
   "source": [
    "# 8. How has the ratio of EV types changed over time?"
   ]
  },
  {
   "cell_type": "code",
   "execution_count": null,
   "metadata": {},
   "outputs": [],
   "source": [
    "# 9. What is the ratio of electric cars, trucks, etc. sold?"
   ]
  },
  {
   "cell_type": "code",
   "execution_count": null,
   "metadata": {},
   "outputs": [],
   "source": [
    "# 10. How have the percentage of electric vehicles sold in \n",
    "#     the United States changed over time?"
   ]
  }
 ],
 "metadata": {
  "kernelspec": {
   "display_name": "Python 3",
   "language": "python",
   "name": "python3"
  },
  "language_info": {
   "codemirror_mode": {
    "name": "ipython",
    "version": 3
   },
   "file_extension": ".py",
   "mimetype": "text/x-python",
   "name": "python",
   "nbconvert_exporter": "python",
   "pygments_lexer": "ipython3",
   "version": "3.11.9"
  }
 },
 "nbformat": 4,
 "nbformat_minor": 2
}
