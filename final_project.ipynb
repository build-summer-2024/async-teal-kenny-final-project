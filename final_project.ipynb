{
 "cells": [
  {
   "cell_type": "code",
   "execution_count": 46,
   "metadata": {},
   "outputs": [],
   "source": [
    "import pandas as pd\n",
    "import seaborn\n",
    "import matplotlib.pyplot as plt"
   ]
  },
  {
   "cell_type": "code",
   "execution_count": 47,
   "metadata": {},
   "outputs": [
    {
     "data": {
      "text/plain": [
       "region         object\n",
       "category       object\n",
       "parameter      object\n",
       "mode           object\n",
       "powertrain     object\n",
       "year            int64\n",
       "unit           object\n",
       "value         float64\n",
       "dtype: object"
      ]
     },
     "execution_count": 47,
     "metadata": {},
     "output_type": "execute_result"
    }
   ],
   "source": [
    "df = pd.read_csv(\"IEA Global EV Data 2024.csv\")\n",
    "df.dtypes"
   ]
  },
  {
   "cell_type": "code",
   "execution_count": 62,
   "metadata": {},
   "outputs": [
    {
     "name": "stdout",
     "output_type": "stream",
     "text": [
      "14375342.0\n"
     ]
    },
    {
     "name": "stderr",
     "output_type": "stream",
     "text": [
      "C:\\Users\\kenny\\AppData\\Local\\Temp\\ipykernel_11464\\2987789744.py:5: UserWarning: Boolean Series key will be reindexed to match DataFrame index.\n",
      "  world_2010 = sort_by_world[specification[0]][specification[1]][sort_by_world.year == 2010]\n",
      "C:\\Users\\kenny\\AppData\\Local\\Temp\\ipykernel_11464\\2987789744.py:5: UserWarning: Boolean Series key will be reindexed to match DataFrame index.\n",
      "  world_2010 = sort_by_world[specification[0]][specification[1]][sort_by_world.year == 2010]\n",
      "C:\\Users\\kenny\\AppData\\Local\\Temp\\ipykernel_11464\\2987789744.py:6: UserWarning: Boolean Series key will be reindexed to match DataFrame index.\n",
      "  world_2023 = sort_by_world[specification[0]][specification[1]][sort_by_world.year == 2023]\n",
      "C:\\Users\\kenny\\AppData\\Local\\Temp\\ipykernel_11464\\2987789744.py:6: UserWarning: Boolean Series key will be reindexed to match DataFrame index.\n",
      "  world_2023 = sort_by_world[specification[0]][specification[1]][sort_by_world.year == 2023]\n"
     ]
    },
    {
     "data": {
      "image/png": "[encoded data removed]",
      "text/plain": [
       "<Figure size 640x480 with 1 Axes>"
      ]
     },
     "metadata": {},
     "output_type": "display_data"
    }
   ],
   "source": [
    "# 1. How many electric vehicles have been sold in the \n",
    "#    World in 2023 compared to 2010?\n",
    "sort_by_world = df[df.region == \"World\"]\n",
    "specification = [sort_by_world.category == \"Historical\", sort_by_world.parameter == \"EV sales\"]\n",
    "world_2010 = sort_by_world[specification[0]][specification[1]][sort_by_world.year == 2010]\n",
    "world_2023 = sort_by_world[specification[0]][specification[1]][sort_by_world.year == 2023]\n",
    "sale_difference = world_2023.value.sum() - world_2010.value.sum()\n",
    "print(sale_difference)\n",
    "combined = pd.concat([world_2010, world_2023])\n",
    "seaborn.swarmplot(x=combined.year,y=combined.value)\n",
    "plt.ylabel(\"vehicles sold\")\n",
    "plt.title(\"Comparison of Vehicle Sales\")\n",
    "# make sure to save b4 showing otherwise saves blank img\n",
    "plt.savefig(\"Visualizations/Question 1 Visualization.png\")\n",
    "plt.show()"
   ]
  },
  {
   "cell_type": "code",
   "execution_count": null,
   "metadata": {},
   "outputs": [],
   "source": [
    "# 2. Who were the top 5 countries that sold EVs in 2010?"
   ]
  },
  {
   "cell_type": "code",
   "execution_count": null,
   "metadata": {},
   "outputs": [],
   "source": [
    "# 3. Who were the top 5 countries that sold EVs in 2023?"
   ]
  },
  {
   "cell_type": "code",
   "execution_count": null,
   "metadata": {},
   "outputs": [],
   "source": [
    "# 4. Which country has sold the most EVs in total?"
   ]
  },
  {
   "cell_type": "code",
   "execution_count": null,
   "metadata": {},
   "outputs": [],
   "source": [
    "# 5. How has the stock share changed in the US over time?"
   ]
  },
  {
   "cell_type": "code",
   "execution_count": null,
   "metadata": {},
   "outputs": [],
   "source": [
    "# 6. How has the stock share changed in the World over time?"
   ]
  },
  {
   "cell_type": "code",
   "execution_count": null,
   "metadata": {},
   "outputs": [],
   "source": [
    "# 7. What is the ratio of types of EVs in 2023?"
   ]
  },
  {
   "cell_type": "code",
   "execution_count": null,
   "metadata": {},
   "outputs": [],
   "source": [
    "# 8. How has the ratio of EV types changed over time?"
   ]
  },
  {
   "cell_type": "code",
   "execution_count": null,
   "metadata": {},
   "outputs": [],
   "source": [
    "# 9. What is the ratio of electric cars, trucks, etc. sold?"
   ]
  },
  {
   "cell_type": "code",
   "execution_count": null,
   "metadata": {},
   "outputs": [],
   "source": [
    "# 10. How have the percentage of electric vehicles sold in \n",
    "#     the United States changed over time?"
   ]
  }
 ],
 "metadata": {
  "kernelspec": {
   "display_name": "Python 3",
   "language": "python",
   "name": "python3"
  },
  "language_info": {
   "codemirror_mode": {
    "name": "ipython",
    "version": 3
   },
   "file_extension": ".py",
   "mimetype": "text/x-python",
   "name": "python",
   "nbconvert_exporter": "python",
   "pygments_lexer": "ipython3",
   "version": "3.11.9"
  }
 },
 "nbformat": 4,
 "nbformat_minor": 2
}
